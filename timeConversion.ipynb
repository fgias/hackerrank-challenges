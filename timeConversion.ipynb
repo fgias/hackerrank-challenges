{
 "cells": [
  {
   "cell_type": "markdown",
   "metadata": {},
   "source": [
    "# Time Conversion"
   ]
  },
  {
   "cell_type": "code",
   "execution_count": 56,
   "metadata": {},
   "outputs": [],
   "source": [
    "#!/bin/python3\n",
    "\n",
    "import math\n",
    "import os\n",
    "import random\n",
    "import re\n",
    "import sys\n",
    "\n",
    "#\n",
    "# Complete the 'timeConversion' function below.\n",
    "#\n",
    "# The function is expected to return a STRING.\n",
    "# The function accepts STRING s as parameter.\n",
    "#\n",
    "\n",
    "def timeConversion(s):\n",
    "    t = s[8]\n",
    "    if t == \"A\" and s[0:2] != \"12\":\n",
    "        s = s[0:8]\n",
    "    elif t == \"P\" and s[0:2] != \"12\":\n",
    "        time = int(s[0:2])\n",
    "        time += 12\n",
    "        s = str(time) + s[2:8]\n",
    "    elif t == \"A\" and s[0:2] == \"12\":\n",
    "        s = \"00\" + s[2:8]\n",
    "    elif t == \"P\" and s[0:2] == \"12\":\n",
    "        s = s[0:8]\n",
    "\n",
    "    return s\n"
   ]
  }
 ],
 "metadata": {
  "interpreter": {
   "hash": "9688926e0120c82bc45141654f06390cf5b07a9996c109707e80805420de038d"
  },
  "kernelspec": {
   "display_name": "Python 3.8.5 64-bit ('base': conda)",
   "language": "python",
   "name": "python3"
  },
  "language_info": {
   "codemirror_mode": {
    "name": "ipython",
    "version": 3
   },
   "file_extension": ".py",
   "mimetype": "text/x-python",
   "name": "python",
   "nbconvert_exporter": "python",
   "pygments_lexer": "ipython3",
   "version": "3.8.5"
  },
  "orig_nbformat": 4
 },
 "nbformat": 4,
 "nbformat_minor": 2
}

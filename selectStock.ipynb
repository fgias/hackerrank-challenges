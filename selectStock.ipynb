{
 "cells": [
  {
   "cell_type": "code",
   "execution_count": 29,
   "metadata": {},
   "outputs": [],
   "source": [
    "#!/bin/python3\n",
    "\n",
    "import math\n",
    "import os\n",
    "import random\n",
    "import re\n",
    "import sys\n",
    "\n",
    "\n",
    "\n",
    "#\n",
    "# Complete the 'selectStock' function below.\n",
    "#\n",
    "# The function is expected to return an INTEGER.\n",
    "# The function accepts following parameters:\n",
    "#  1. INTEGER saving\n",
    "#  2. INTEGER_ARRAY currentValue\n",
    "#  3. INTEGER_ARRAY futureValue\n",
    "#\n",
    "\n",
    "def selectStock(saving, currentValue, futureValue):\n",
    "    n = len(currentValue)\n",
    "    assert len(currentValue) == len(futureValue)\n",
    "\n",
    "    # find the differences in the prices for each company\n",
    "    price_change = [futureValue[i] - currentValue[i] for i in range(n)]\n",
    "\n",
    "    # sort these differences, together with the current value of each stock\n",
    "    price_change, currentValue = (list(t) for t in zip(*sorted(zip(price_change, currentValue), reverse=True)))\n",
    "\n",
    "    # I realised in the last 5 minutes, that in the case of equal values of `price_change`, we also have to sort the\n",
    "    # equal values in `current_value` in ascending order\n",
    "\n",
    "    # calculate the total profit\n",
    "    profit = 0\n",
    "    for i in range(n):\n",
    "        if saving >= currentValue[i] and price_change[i] > 0:\n",
    "            saving -= currentValue[i]\n",
    "            profit += price_change[i]\n",
    "        else:\n",
    "            pass\n",
    "\n",
    "    return profit"
   ]
  }
 ],
 "metadata": {
  "interpreter": {
   "hash": "220aead3132f0891d2d01f0ad3f05436e31d9e402ae7ff7c9805c7d2dd3b8248"
  },
  "kernelspec": {
   "display_name": "Python 3.9.7 ('base')",
   "language": "python",
   "name": "python3"
  },
  "language_info": {
   "codemirror_mode": {
    "name": "ipython",
    "version": 3
   },
   "file_extension": ".py",
   "mimetype": "text/x-python",
   "name": "python",
   "nbconvert_exporter": "python",
   "pygments_lexer": "ipython3",
   "version": "3.9.7"
  },
  "orig_nbformat": 4
 },
 "nbformat": 4,
 "nbformat_minor": 2
}

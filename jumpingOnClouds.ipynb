{
 "cells": [
  {
   "cell_type": "code",
   "execution_count": 1,
   "metadata": {},
   "outputs": [],
   "source": [
    "#!/bin/python3\n",
    "\n",
    "import math\n",
    "import os\n",
    "import random\n",
    "import re\n",
    "import sys\n",
    "\n",
    "#\n",
    "# Complete the 'jumpingOnClouds' function below.\n",
    "#\n",
    "# The function is expected to return an INTEGER.\n",
    "# The function accepts INTEGER_ARRAY c as parameter.\n",
    "#\n",
    "\n",
    "def jumpingOnClouds(c):\n",
    "    positions_ones = []\n",
    "    for i in range(len(c)):\n",
    "        if c[i] == 1:\n",
    "            positions_ones.append(i)\n",
    "    \n",
    "    positions = [0]\n",
    "    for i in range(len(positions_ones)):\n",
    "        if (positions_ones[i]-1) not in positions:\n",
    "            positions.append(positions_ones[i]-1)\n",
    "        \n",
    "        if positions_ones[i]+1 not in positions:\n",
    "            positions.append(positions_ones[i]+1)\n",
    "    \n",
    "    positions.append(len(c)-1)\n",
    "\n",
    "    no_steps = 0\n",
    "    for i in range(len(positions)-1):\n",
    "        diff = positions[i+1] - positions[i]\n",
    "        no_steps += sum(divmod(diff,2))\n",
    "    \n",
    "    return no_steps\n"
   ]
  },
  {
   "cell_type": "code",
   "execution_count": 2,
   "metadata": {},
   "outputs": [
    {
     "data": {
      "text/plain": [
       "7"
      ]
     },
     "execution_count": 2,
     "metadata": {},
     "output_type": "execute_result"
    }
   ],
   "source": [
    "jumpingOnClouds([0, 0, 0, 0, 1, 0, 0, 1, 0, 1, 0, 0])"
   ]
  },
  {
   "cell_type": "code",
   "execution_count": 3,
   "metadata": {},
   "outputs": [],
   "source": [
    "%qtconsole"
   ]
  }
 ],
 "metadata": {
  "interpreter": {
   "hash": "9688926e0120c82bc45141654f06390cf5b07a9996c109707e80805420de038d"
  },
  "kernelspec": {
   "display_name": "Python 3.8.5 64-bit ('base': conda)",
   "language": "python",
   "name": "python3"
  },
  "language_info": {
   "codemirror_mode": {
    "name": "ipython",
    "version": 3
   },
   "file_extension": ".py",
   "mimetype": "text/x-python",
   "name": "python",
   "nbconvert_exporter": "python",
   "pygments_lexer": "ipython3",
   "version": "3.8.5"
  },
  "orig_nbformat": 4
 },
 "nbformat": 4,
 "nbformat_minor": 2
}

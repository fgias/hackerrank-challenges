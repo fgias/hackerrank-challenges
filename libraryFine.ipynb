{
 "cells": [
  {
   "cell_type": "code",
   "execution_count": 1,
   "metadata": {},
   "outputs": [],
   "source": [
    "#!/bin/python3\n",
    "\n",
    "import math\n",
    "import os\n",
    "import random\n",
    "import re\n",
    "import sys\n",
    "\n",
    "#\n",
    "# Complete the 'libraryFine' function below.\n",
    "#\n",
    "# The function is expected to return an INTEGER.\n",
    "# The function accepts following parameters:\n",
    "#  1. INTEGER d1\n",
    "#  2. INTEGER m1\n",
    "#  3. INTEGER y1\n",
    "#  4. INTEGER d2\n",
    "#  5. INTEGER m2\n",
    "#  6. INTEGER y2\n",
    "#\n",
    "\n",
    "def libraryFine(d1, m1, y1, d2, m2, y2):\n",
    "    dDays, dMonths, dYears = d2-d1, m2-m1, y2-y1\n",
    "\n",
    "    if dYears < 0:\n",
    "        return 10_000\n",
    "    elif dYears == 0:\n",
    "        if dMonths < 0:\n",
    "            return 500 * abs(dMonths)\n",
    "        elif dMonths == 0:\n",
    "            if dDays < 0:\n",
    "                return 15 * abs(dDays)\n",
    "    \n",
    "    return 0"
   ]
  }
 ],
 "metadata": {
  "interpreter": {
   "hash": "220aead3132f0891d2d01f0ad3f05436e31d9e402ae7ff7c9805c7d2dd3b8248"
  },
  "kernelspec": {
   "display_name": "Python 3.9.7 ('base')",
   "language": "python",
   "name": "python3"
  },
  "language_info": {
   "codemirror_mode": {
    "name": "ipython",
    "version": 3
   },
   "file_extension": ".py",
   "mimetype": "text/x-python",
   "name": "python",
   "nbconvert_exporter": "python",
   "pygments_lexer": "ipython3",
   "version": "3.9.7"
  },
  "orig_nbformat": 4
 },
 "nbformat": 4,
 "nbformat_minor": 2
}

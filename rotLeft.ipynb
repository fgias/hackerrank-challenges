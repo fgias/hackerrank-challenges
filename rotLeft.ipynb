{
 "cells": [
  {
   "cell_type": "code",
   "execution_count": 34,
   "metadata": {},
   "outputs": [],
   "source": [
    "#!/bin/python3\n",
    "\n",
    "import math\n",
    "import os\n",
    "import random\n",
    "import re\n",
    "import sys\n",
    "\n",
    "#\n",
    "# Complete the 'rotLeft' function below.\n",
    "#\n",
    "# The function is expected to return an INTEGER_ARRAY.\n",
    "# The function accepts following parameters:\n",
    "#  1. INTEGER_ARRAY a\n",
    "#  2. INTEGER d\n",
    "#\n",
    "\n",
    "def rotLeft(a, d):\n",
    "    a_new = a.copy()\n",
    "    for i in range(len(a)):\n",
    "        j = (i+d)%len(a)\n",
    "        a_new[i] = a[j]\n",
    "    \n",
    "    return a_new\n",
    "\n"
   ]
  },
  {
   "cell_type": "code",
   "execution_count": 36,
   "metadata": {},
   "outputs": [
    {
     "data": {
      "text/plain": [
       "[3, 4, 1, 2]"
      ]
     },
     "execution_count": 36,
     "metadata": {},
     "output_type": "execute_result"
    }
   ],
   "source": [
    "rotLeft([1,2,3,4],2)"
   ]
  }
 ],
 "metadata": {
  "interpreter": {
   "hash": "9688926e0120c82bc45141654f06390cf5b07a9996c109707e80805420de038d"
  },
  "kernelspec": {
   "display_name": "Python 3.8.5 64-bit ('base': conda)",
   "language": "python",
   "name": "python3"
  },
  "language_info": {
   "codemirror_mode": {
    "name": "ipython",
    "version": 3
   },
   "file_extension": ".py",
   "mimetype": "text/x-python",
   "name": "python",
   "nbconvert_exporter": "python",
   "pygments_lexer": "ipython3",
   "version": "3.8.5"
  },
  "orig_nbformat": 4
 },
 "nbformat": 4,
 "nbformat_minor": 2
}

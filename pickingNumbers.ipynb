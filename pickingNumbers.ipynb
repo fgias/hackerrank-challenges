{
 "cells": [
  {
   "cell_type": "code",
   "execution_count": 11,
   "metadata": {},
   "outputs": [],
   "source": [
    "#!/bin/python3\n",
    "\n",
    "import math\n",
    "import os\n",
    "import random\n",
    "import re\n",
    "import sys\n",
    "\n",
    "#\n",
    "# Complete the 'pickingNumbers' function below.\n",
    "#\n",
    "# The function is expected to return an INTEGER.\n",
    "# The function accepts INTEGER_ARRAY a as parameter.\n",
    "#\n",
    "\n",
    "def pickingNumbers(a):\n",
    "    n = len(a)\n",
    "    max = 0\n",
    "    s = list(set(a))\n",
    "\n",
    "    pairs = []\n",
    "    for i in s:\n",
    "        for j in s:\n",
    "            if j == i+1 or j == i-1:\n",
    "                pairs.append([i,j])\n",
    "\n",
    "    for e in s:\n",
    "        subarray = []\n",
    "        for i in a:\n",
    "            if i == e:\n",
    "                subarray.append(i)\n",
    "            \n",
    "        if len(subarray) > max:\n",
    "            max = len(subarray)\n",
    "\n",
    "    for p in pairs:\n",
    "        subarray = []\n",
    "        for i in a:\n",
    "            if i in p:\n",
    "                subarray.append(i)\n",
    "        \n",
    "        if len(subarray) > max:\n",
    "            max = len(subarray)     \n",
    "    \n",
    "    return max      "
   ]
  }
 ],
 "metadata": {
  "interpreter": {
   "hash": "9688926e0120c82bc45141654f06390cf5b07a9996c109707e80805420de038d"
  },
  "kernelspec": {
   "display_name": "Python 3.8.5 64-bit ('base': conda)",
   "language": "python",
   "name": "python3"
  },
  "language_info": {
   "codemirror_mode": {
    "name": "ipython",
    "version": 3
   },
   "file_extension": ".py",
   "mimetype": "text/x-python",
   "name": "python",
   "nbconvert_exporter": "python",
   "pygments_lexer": "ipython3",
   "version": "3.8.5"
  },
  "orig_nbformat": 4
 },
 "nbformat": 4,
 "nbformat_minor": 2
}

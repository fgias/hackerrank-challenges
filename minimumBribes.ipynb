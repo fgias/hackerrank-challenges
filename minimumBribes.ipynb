{
 "cells": [
  {
   "cell_type": "markdown",
   "metadata": {},
   "source": [
    "# Solution"
   ]
  },
  {
   "cell_type": "code",
   "execution_count": 38,
   "metadata": {},
   "outputs": [],
   "source": [
    "#!/bin/python3\n",
    "\n",
    "import math\n",
    "import os\n",
    "import random\n",
    "import re\n",
    "import sys\n",
    "\n",
    "#\n",
    "# Complete the 'minimumBribes' function below.\n",
    "#\n",
    "# The function accepts INTEGER_ARRAY q as parameter.\n",
    "#\n",
    "\n",
    "def minimumBribes(q):\n",
    "    sorted_q = q.copy(); sorted_q.sort()\n",
    "    bribes = 0\n",
    "    chaotic = False\n",
    "\n",
    "    for i in range(len(q)):\n",
    "        if q[i] > i + 1: # test if it is chaotic\n",
    "            if q[i] >= i+4 or q[i] <= i-2:\n",
    "                print(\"Too chaotic\")\n",
    "                chaotic = True\n",
    "                break\n",
    "\n",
    "\n",
    "    while sorted_q != q and chaotic == False:\n",
    "        for i in range(len(q)-1):\n",
    "            if q[i] > q[i+1]:\n",
    "                temp = q[i]\n",
    "                q[i] = q[i+1]\n",
    "                q[i+1] = temp\n",
    "                bribes += 1\n",
    "        \n",
    "    if chaotic == False:\n",
    "        print(bribes)\n",
    "        \n"
   ]
  },
  {
   "cell_type": "markdown",
   "metadata": {},
   "source": [
    "# Example"
   ]
  },
  {
   "cell_type": "code",
   "execution_count": 40,
   "metadata": {},
   "outputs": [
    {
     "name": "stdout",
     "output_type": "stream",
     "text": [
      "7\n"
     ]
    }
   ],
   "source": [
    "minimumBribes([1, 2, 5, 3, 7, 8, 6, 4])"
   ]
  }
 ],
 "metadata": {
  "interpreter": {
   "hash": "9688926e0120c82bc45141654f06390cf5b07a9996c109707e80805420de038d"
  },
  "kernelspec": {
   "display_name": "Python 3.8.5 64-bit ('base': conda)",
   "language": "python",
   "name": "python3"
  },
  "language_info": {
   "codemirror_mode": {
    "name": "ipython",
    "version": 3
   },
   "file_extension": ".py",
   "mimetype": "text/x-python",
   "name": "python",
   "nbconvert_exporter": "python",
   "pygments_lexer": "ipython3",
   "version": "3.8.5"
  },
  "orig_nbformat": 4
 },
 "nbformat": 4,
 "nbformat_minor": 2
}

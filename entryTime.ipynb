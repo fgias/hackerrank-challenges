{
 "cells": [
  {
   "cell_type": "code",
   "execution_count": 1,
   "metadata": {},
   "outputs": [],
   "source": [
    "#!/bin/python3\n",
    "\n",
    "import math\n",
    "import os\n",
    "import random\n",
    "import re\n",
    "import sys\n",
    "\n",
    "\n",
    "\n",
    "#\n",
    "# Complete the 'entryTime' function below.\n",
    "#\n",
    "# The function is expected to return an INTEGER.\n",
    "# The function accepts following parameters:\n",
    "#  1. STRING s\n",
    "#  2. STRING keypad\n",
    "#\n",
    "\n",
    "def entryTime(s, keypad):\n",
    "    # make keypad stringinto 3x3 array\n",
    "    keypad_arr = [[i for i in keypad[0:3]],[i for i in keypad[3:6]],[i for i in keypad[6:9]]] \n",
    "\n",
    "    # find the positions of the the numbers in s in the keyboard string\n",
    "    pos = []\n",
    "    for i in range(len(s)):\n",
    "        pos.append([j for j in range(9) if s[i] == keypad[j]][0])\n",
    "\n",
    "    #convert positions to positions in the 3x3 array\n",
    "    arr_pos = [divmod(pos[i],3) for i in range(len(pos))]\n",
    "    arr_pos = [[i,j] for i,j in arr_pos]\n",
    "\n",
    "    # calculate the time\n",
    "    time = 0\n",
    "    curr_pos = 0\n",
    "    for i in range(0,len(arr_pos)-1):\n",
    "        if abs(arr_pos[i][0] - arr_pos[i+1][0]) == 2 or abs(arr_pos[i][1] - arr_pos[i+1][1]) == 2:\n",
    "            time += 2\n",
    "        elif abs(arr_pos[i][0] - arr_pos[i+1][0]) == 1 or abs(arr_pos[i][1] - arr_pos[i+1][1]) == 1:\n",
    "            time += 1\n",
    "        else:\n",
    "            pass\n",
    "\n",
    "    return time\n",
    "\n",
    "\n",
    "    "
   ]
  },
  {
   "cell_type": "code",
   "execution_count": 4,
   "metadata": {},
   "outputs": [
    {
     "data": {
      "text/plain": [
       "8"
      ]
     },
     "execution_count": 4,
     "metadata": {},
     "output_type": "execute_result"
    }
   ],
   "source": [
    "entryTime(s,keypad)"
   ]
  },
  {
   "cell_type": "code",
   "execution_count": 3,
   "metadata": {},
   "outputs": [],
   "source": [
    "s = \"423692\"\n",
    "keypad = \"923857614\""
   ]
  },
  {
   "cell_type": "code",
   "execution_count": 44,
   "metadata": {},
   "outputs": [],
   "source": [
    "keypad_arr = [[i for i in keypad[0:3]],[i for i in keypad[3:6]],[i for i in keypad[6:9]]]"
   ]
  },
  {
   "cell_type": "code",
   "execution_count": 45,
   "metadata": {},
   "outputs": [
    {
     "data": {
      "text/plain": [
       "[['9', '2', '3'], ['8', '5', '7'], ['6', '1', '4']]"
      ]
     },
     "execution_count": 45,
     "metadata": {},
     "output_type": "execute_result"
    }
   ],
   "source": [
    "keypad_arr"
   ]
  },
  {
   "cell_type": "code",
   "execution_count": 46,
   "metadata": {},
   "outputs": [
    {
     "data": {
      "text/plain": [
       "'423692'"
      ]
     },
     "execution_count": 46,
     "metadata": {},
     "output_type": "execute_result"
    }
   ],
   "source": [
    "s"
   ]
  },
  {
   "cell_type": "code",
   "execution_count": 47,
   "metadata": {},
   "outputs": [
    {
     "data": {
      "text/plain": [
       "'923857614'"
      ]
     },
     "execution_count": 47,
     "metadata": {},
     "output_type": "execute_result"
    }
   ],
   "source": [
    "keypad"
   ]
  },
  {
   "cell_type": "code",
   "execution_count": 48,
   "metadata": {},
   "outputs": [
    {
     "data": {
      "text/plain": [
       "'9'"
      ]
     },
     "execution_count": 48,
     "metadata": {},
     "output_type": "execute_result"
    }
   ],
   "source": [
    "s[4]"
   ]
  },
  {
   "cell_type": "code",
   "execution_count": 49,
   "metadata": {},
   "outputs": [
    {
     "data": {
      "text/plain": [
       "'9'"
      ]
     },
     "execution_count": 49,
     "metadata": {},
     "output_type": "execute_result"
    }
   ],
   "source": [
    "keypad[0]"
   ]
  },
  {
   "cell_type": "code",
   "execution_count": 50,
   "metadata": {},
   "outputs": [
    {
     "data": {
      "text/plain": [
       "0"
      ]
     },
     "execution_count": 50,
     "metadata": {},
     "output_type": "execute_result"
    }
   ],
   "source": [
    "i = 4\n",
    "pos = [j for j in range(9) if s[i] == keypad[j]][0]\n",
    "pos"
   ]
  },
  {
   "cell_type": "code",
   "execution_count": 51,
   "metadata": {},
   "outputs": [
    {
     "data": {
      "text/plain": [
       "[8, 1, 2, 6, 0, 1]"
      ]
     },
     "execution_count": 51,
     "metadata": {},
     "output_type": "execute_result"
    }
   ],
   "source": [
    "pos = []\n",
    "for i in range(len(s)):\n",
    "    pos.append([j for j in range(9) if s[i] == keypad[j]][0])\n",
    "pos"
   ]
  },
  {
   "cell_type": "code",
   "execution_count": 52,
   "metadata": {},
   "outputs": [
    {
     "data": {
      "text/plain": [
       "[[2, 2], [0, 1], [0, 2], [2, 0], [0, 0], [0, 1]]"
      ]
     },
     "execution_count": 52,
     "metadata": {},
     "output_type": "execute_result"
    }
   ],
   "source": [
    "arr_pos = [divmod(pos[i],3) for i in range(len(pos))]\n",
    "arr_pos = [[i,j] for i,j in arr_pos]\n",
    "arr_pos"
   ]
  },
  {
   "cell_type": "code",
   "execution_count": 57,
   "metadata": {},
   "outputs": [],
   "source": [
    "time = 0\n",
    "curr_pos = 0\n",
    "for i in range(0,len(arr_pos)-1):\n",
    "    if abs(arr_pos[i][0] - arr_pos[i+1][0]) == 2 or abs(arr_pos[i][1] - arr_pos[i+1][1]) == 2:\n",
    "        time += 2\n",
    "    elif abs(arr_pos[i][0] - arr_pos[i+1][0]) == 1 or abs(arr_pos[i][1] - arr_pos[i+1][1]) == 1:\n",
    "        time += 1\n",
    "    else:\n",
    "        pass\n"
   ]
  },
  {
   "cell_type": "code",
   "execution_count": 58,
   "metadata": {},
   "outputs": [
    {
     "data": {
      "text/plain": [
       "8"
      ]
     },
     "execution_count": 58,
     "metadata": {},
     "output_type": "execute_result"
    }
   ],
   "source": [
    "time"
   ]
  }
 ],
 "metadata": {
  "interpreter": {
   "hash": "220aead3132f0891d2d01f0ad3f05436e31d9e402ae7ff7c9805c7d2dd3b8248"
  },
  "kernelspec": {
   "display_name": "Python 3.9.7 ('base')",
   "language": "python",
   "name": "python3"
  },
  "language_info": {
   "codemirror_mode": {
    "name": "ipython",
    "version": 3
   },
   "file_extension": ".py",
   "mimetype": "text/x-python",
   "name": "python",
   "nbconvert_exporter": "python",
   "pygments_lexer": "ipython3",
   "version": "3.9.7"
  },
  "orig_nbformat": 4
 },
 "nbformat": 4,
 "nbformat_minor": 2
}

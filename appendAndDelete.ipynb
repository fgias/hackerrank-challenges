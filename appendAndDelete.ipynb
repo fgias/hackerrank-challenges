{
 "cells": [
  {
   "cell_type": "code",
   "execution_count": 72,
   "metadata": {},
   "outputs": [],
   "source": [
    "#!/bin/python3\n",
    "\n",
    "import math\n",
    "import os\n",
    "import random\n",
    "import re\n",
    "import sys\n",
    "\n",
    "#\n",
    "# Complete the 'appendAndDelete' function below.\n",
    "#\n",
    "# The function is expected to return a STRING.\n",
    "# The function accepts following parameters:\n",
    "#  1. STRING s\n",
    "#  2. STRING t\n",
    "#  3. INTEGER k\n",
    "#\n",
    "\n",
    "def appendAndDelete(s, t, k):\n",
    "    diff = abs(len(s) - len(t))\n",
    "\n",
    "    first_diff = min(len(s),len(t))\n",
    "    for i in range(min(len(s),len(t))):\n",
    "        if s[i] != t[i]:\n",
    "            first_diff = i\n",
    "            break\n",
    "\n",
    "    diff += (min(len(s),len(t)) - first_diff)*2 \n",
    "\n",
    "    if diff == k:\n",
    "        return \"Yes\"\n",
    "    else:\n",
    "        return \"No\""
   ]
  },
  {
   "cell_type": "code",
   "execution_count": 75,
   "metadata": {},
   "outputs": [],
   "source": [
    "def appendAndDelete(s, t, k):\n",
    "    numSameChars = min(len(s), len(t))\n",
    "    for i in range(len(t)):\n",
    "        if s[:i] != t[:i]:\n",
    "            numSameChars = i-1\n",
    "            break\n",
    "\n",
    "    diff = len(s)-numSameChars + len(t)-numSameChars\n",
    "    if (diff <= k and diff%2 == k%2) or len(s) + len(t) < k:\n",
    "        return 'Yes'\n",
    "    else:\n",
    "        return 'No'"
   ]
  }
 ],
 "metadata": {
  "interpreter": {
   "hash": "220aead3132f0891d2d01f0ad3f05436e31d9e402ae7ff7c9805c7d2dd3b8248"
  },
  "kernelspec": {
   "display_name": "Python 3.9.7 ('base')",
   "language": "python",
   "name": "python3"
  },
  "language_info": {
   "codemirror_mode": {
    "name": "ipython",
    "version": 3
   },
   "file_extension": ".py",
   "mimetype": "text/x-python",
   "name": "python",
   "nbconvert_exporter": "python",
   "pygments_lexer": "ipython3",
   "version": "3.9.7"
  },
  "orig_nbformat": 4
 },
 "nbformat": 4,
 "nbformat_minor": 2
}

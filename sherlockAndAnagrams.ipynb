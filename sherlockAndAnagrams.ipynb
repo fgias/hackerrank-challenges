{
 "cells": [
  {
   "cell_type": "markdown",
   "metadata": {},
   "source": [
    "## My attempt"
   ]
  },
  {
   "cell_type": "code",
   "execution_count": 69,
   "metadata": {},
   "outputs": [],
   "source": [
    "#!/bin/python3\n",
    "\n",
    "import math\n",
    "import os\n",
    "import random\n",
    "import re\n",
    "import sys\n",
    "\n",
    "import operator\n",
    "\n",
    "#\n",
    "# Complete the 'sherlockAndAnagrams' function below.\n",
    "#\n",
    "# The function is expected to return an INTEGER.\n",
    "# The function accepts STRING s as parameter.\n",
    "#\n",
    "\n",
    "def sherlockAndAnagrams(s):\n",
    "    l = len(s)-1\n",
    "    dicts = []\n",
    "    for length in range(1,l+1):\n",
    "        dict = {}\n",
    "        for i in range(len(s)-length+1):\n",
    "            dict[i] = s[i:(i+length)]\n",
    "        dicts.append(dict)\n",
    "    \n",
    "    cnt = 0\n",
    "    for dict in dicts:\n",
    "        iter = list(dict.keys()).copy()\n",
    "        for i in iter:\n",
    "            substr = dict.pop(i)[::-1] # here I calculated number of palindromes\n",
    "            # not anagrams!\n",
    "            if substr in dict.values():\n",
    "                cnt += operator.countOf(dict.values(), substr)\n",
    "\n",
    "    return cnt"
   ]
  },
  {
   "cell_type": "code",
   "execution_count": 70,
   "metadata": {},
   "outputs": [
    {
     "data": {
      "text/plain": [
       "10"
      ]
     },
     "execution_count": 70,
     "metadata": {},
     "output_type": "execute_result"
    }
   ],
   "source": [
    "sherlockAndAnagrams(s)"
   ]
  }
 ],
 "metadata": {
  "interpreter": {
   "hash": "9688926e0120c82bc45141654f06390cf5b07a9996c109707e80805420de038d"
  },
  "kernelspec": {
   "display_name": "Python 3.8.5 64-bit ('base': conda)",
   "language": "python",
   "name": "python3"
  },
  "language_info": {
   "codemirror_mode": {
    "name": "ipython",
    "version": 3
   },
   "file_extension": ".py",
   "mimetype": "text/x-python",
   "name": "python",
   "nbconvert_exporter": "python",
   "pygments_lexer": "ipython3",
   "version": "3.8.5"
  },
  "orig_nbformat": 4
 },
 "nbformat": 4,
 "nbformat_minor": 2
}

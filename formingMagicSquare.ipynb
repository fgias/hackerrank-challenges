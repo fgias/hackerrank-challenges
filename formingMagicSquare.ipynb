{
 "cells": [
  {
   "cell_type": "markdown",
   "metadata": {},
   "source": [
    "## Forming a Magic Square"
   ]
  },
  {
   "cell_type": "markdown",
   "metadata": {},
   "source": [
    "### Code"
   ]
  },
  {
   "cell_type": "code",
   "execution_count": 6,
   "metadata": {},
   "outputs": [],
   "source": [
    "#!/bin/python3\n",
    "\n",
    "import math\n",
    "import os\n",
    "import random\n",
    "import re\n",
    "import sys\n",
    "\n",
    "#\n",
    "# Complete the 'formingMagicSquare' function below.\n",
    "#\n",
    "# The function is expected to return an INTEGER.\n",
    "# The function accepts 2D_INTEGER_ARRAY s as parameter.\n",
    "#\n",
    "\n",
    "def calculate_cost(M, s):\n",
    "    c = 0\n",
    "    for i in range(3):\n",
    "        for j in range(3):\n",
    "            c += abs(M[i][j] - s[i][j])\n",
    "    \n",
    "    return c\n",
    "\n",
    "\n",
    "def formingMagicSquare(s):\n",
    "    # s is 3x3\n",
    "    # for 3x3 the magic constant is 15\n",
    "    # unique solution up to rotation and reflection:\n",
    "    #                   \n",
    "    #           2  7  6\n",
    "    #           9  5  1\n",
    "    #           4  3  8\n",
    "    #\n",
    "    \n",
    "    m = [0] * 8\n",
    "    m[0] = [[2,7,6],[9,5,1],[4,3,8]] # rotations\n",
    "    m[1] = m[0][::-1] # reflections\n",
    "    m[2] = [[6,1,8],[7,5,3],[2,9,4]]\n",
    "    m[3] = m[2][::-1]\n",
    "    m[4] = [[4,9,2],[3,5,7],[8,1,6]]\n",
    "    m[5] = m[4][::-1]\n",
    "    m[6] = [[8,3,4],[1,5,9],[6,7,2]]\n",
    "    m[7] = m[6][::-1]\n",
    "\n",
    "    min_cost = 1000\n",
    "    for M in m:\n",
    "        cost = calculate_cost(M,s)\n",
    "        if cost < min_cost:\n",
    "            min_cost = cost\n",
    "    \n",
    "    return min_cost\n",
    "\n",
    "\n"
   ]
  },
  {
   "cell_type": "markdown",
   "metadata": {},
   "source": [
    "### Example"
   ]
  },
  {
   "cell_type": "code",
   "execution_count": 11,
   "metadata": {},
   "outputs": [
    {
     "data": {
      "text/plain": [
       "7"
      ]
     },
     "execution_count": 11,
     "metadata": {},
     "output_type": "execute_result"
    }
   ],
   "source": [
    "s = [[5, 3, 4], [1, 5, 8], [6, 4, 2]]\n",
    "formingMagicSquare(s)"
   ]
  },
  {
   "cell_type": "code",
   "execution_count": 12,
   "metadata": {},
   "outputs": [
    {
     "name": "stdout",
     "output_type": "stream",
     "text": [
      "[5, 3, 4]\n",
      "[1, 5, 8]\n",
      "[6, 4, 2]\n"
     ]
    }
   ],
   "source": [
    "for i in range(len(s)):\n",
    "    print(s[i])"
   ]
  },
  {
   "cell_type": "markdown",
   "metadata": {},
   "source": [
    "### Notes"
   ]
  },
  {
   "cell_type": "markdown",
   "metadata": {},
   "source": [
    "Reverse the order of a list with `list[::-1]`"
   ]
  },
  {
   "cell_type": "code",
   "execution_count": 13,
   "metadata": {},
   "outputs": [
    {
     "data": {
      "text/plain": [
       "[4, 3, 2, 1]"
      ]
     },
     "execution_count": 13,
     "metadata": {},
     "output_type": "execute_result"
    }
   ],
   "source": [
    "list = [1,2,3,4]\n",
    "list[::-1]"
   ]
  },
  {
   "cell_type": "code",
   "execution_count": 14,
   "metadata": {},
   "outputs": [
    {
     "data": {
      "text/plain": [
       "[[6, 4, 2], [1, 5, 8], [5, 3, 4]]"
      ]
     },
     "execution_count": 14,
     "metadata": {},
     "output_type": "execute_result"
    }
   ],
   "source": [
    "s[::-1]"
   ]
  }
 ],
 "metadata": {
  "interpreter": {
   "hash": "9688926e0120c82bc45141654f06390cf5b07a9996c109707e80805420de038d"
  },
  "kernelspec": {
   "display_name": "Python 3.8.5 64-bit ('base': conda)",
   "language": "python",
   "name": "python3"
  },
  "language_info": {
   "codemirror_mode": {
    "name": "ipython",
    "version": 3
   },
   "file_extension": ".py",
   "mimetype": "text/x-python",
   "name": "python",
   "nbconvert_exporter": "python",
   "pygments_lexer": "ipython3",
   "version": "3.8.5"
  },
  "orig_nbformat": 4
 },
 "nbformat": 4,
 "nbformat_minor": 2
}

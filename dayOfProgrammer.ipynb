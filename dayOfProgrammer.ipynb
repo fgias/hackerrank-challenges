{
 "cells": [
  {
   "cell_type": "code",
   "execution_count": 59,
   "metadata": {},
   "outputs": [],
   "source": [
    "#!/bin/python3\n",
    "\n",
    "import math\n",
    "import os\n",
    "import random\n",
    "import re\n",
    "import sys\n",
    "\n",
    "#\n",
    "# Complete the 'dayOfProgrammer' function below.\n",
    "#\n",
    "# The function is expected to return a STRING.\n",
    "# The function accepts INTEGER year as parameter.\n",
    "#\n",
    "\n",
    "def isGregorian(year):\n",
    "    if year >= 1919:\n",
    "        return True\n",
    "    elif year <= 1917:\n",
    "        return False\n",
    "    else:\n",
    "        return\n",
    "\n",
    "def isLeap(year):\n",
    "    if isGregorian(year) == True:\n",
    "        if (year%400) == 0 or (year%4 ==0 and year%100 != 0):\n",
    "            return True\n",
    "        else:\n",
    "            return False\n",
    "    elif isGregorian(year) == False:\n",
    "        if year%4 == 0:\n",
    "            return True\n",
    "        else:\n",
    "            return False\n",
    "    else:\n",
    "        return False\n",
    "\n",
    "\n",
    "def dayOfProgrammer(year):\n",
    "    if year >= 1919:\n",
    "        if isLeap(year) == True:\n",
    "            return('12.09.' + f'{year}')\n",
    "        else:\n",
    "            return('13.09.' + f'{year}')\n",
    "    elif year <= 1917:\n",
    "        if isLeap(year) == True:\n",
    "            return('12.09.' + f'{year}')\n",
    "        else:\n",
    "            return('13.09.' + f'{year}')\n",
    "    else:\n",
    "        return('26.09.' + f'{year}')\n",
    "\n",
    "\n",
    "    "
   ]
  }
 ],
 "metadata": {
  "interpreter": {
   "hash": "9688926e0120c82bc45141654f06390cf5b07a9996c109707e80805420de038d"
  },
  "kernelspec": {
   "display_name": "Python 3.8.5 64-bit ('base': conda)",
   "language": "python",
   "name": "python3"
  },
  "language_info": {
   "codemirror_mode": {
    "name": "ipython",
    "version": 3
   },
   "file_extension": ".py",
   "mimetype": "text/x-python",
   "name": "python",
   "nbconvert_exporter": "python",
   "pygments_lexer": "ipython3",
   "version": "3.8.5"
  },
  "orig_nbformat": 4
 },
 "nbformat": 4,
 "nbformat_minor": 2
}

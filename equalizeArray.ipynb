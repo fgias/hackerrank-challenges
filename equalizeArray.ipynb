{
 "cells": [
  {
   "cell_type": "code",
   "execution_count": 89,
   "metadata": {},
   "outputs": [],
   "source": [
    "#!/bin/python3\n",
    "\n",
    "import math\n",
    "import os\n",
    "import random\n",
    "import re\n",
    "import sys\n",
    "\n",
    "#\n",
    "# Complete the 'equalizeArray' function below.\n",
    "#\n",
    "# The function is expected to return an INTEGER.\n",
    "# The function accepts INTEGER_ARRAY arr as parameter.\n",
    "#\n",
    "\n",
    "def equalizeArray(arr):\n",
    "    arr.sort()\n",
    "    count = 1\n",
    "    max_count = 1\n",
    "    max_value = 0\n",
    "    for i in range(1, len(arr)-1):\n",
    "        if arr[i] == arr[i-1]:\n",
    "            count += 1\n",
    "            if count > max_count:\n",
    "                max_count = count\n",
    "                max_value = arr[i]\n",
    "        else:\n",
    "            count = 1\n",
    "\n",
    "    num_count = 0\n",
    "    for a in arr:\n",
    "        if max_value == a:\n",
    "            num_count += 1\n",
    "    \n",
    "    if max_count == 1:\n",
    "        return len(arr) - 1\n",
    "    else:\n",
    "        return len(arr) - num_count"
   ]
  }
 ],
 "metadata": {
  "interpreter": {
   "hash": "220aead3132f0891d2d01f0ad3f05436e31d9e402ae7ff7c9805c7d2dd3b8248"
  },
  "kernelspec": {
   "display_name": "Python 3.9.7 ('base')",
   "language": "python",
   "name": "python3"
  },
  "language_info": {
   "codemirror_mode": {
    "name": "ipython",
    "version": 3
   },
   "file_extension": ".py",
   "mimetype": "text/x-python",
   "name": "python",
   "nbconvert_exporter": "python",
   "pygments_lexer": "ipython3",
   "version": "3.9.7"
  },
  "orig_nbformat": 4
 },
 "nbformat": 4,
 "nbformat_minor": 2
}

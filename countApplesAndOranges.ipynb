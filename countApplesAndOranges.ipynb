{
 "cells": [
  {
   "cell_type": "code",
   "execution_count": 8,
   "metadata": {},
   "outputs": [],
   "source": [
    "#!/bin/python3\n",
    "\n",
    "import math\n",
    "import os\n",
    "import random\n",
    "import re\n",
    "import sys\n",
    "\n",
    "#\n",
    "# Complete the 'countApplesAndOranges' function below.\n",
    "#\n",
    "# The function accepts following parameters:\n",
    "#  1. INTEGER s\n",
    "#  2. INTEGER t\n",
    "#  3. INTEGER a\n",
    "#  4. INTEGER b\n",
    "#  5. INTEGER_ARRAY apples\n",
    "#  6. INTEGER_ARRAY oranges\n",
    "#\n",
    "\n",
    "def countApplesAndOranges(s, t, a, b, apples, oranges):\n",
    "    list1 = [a + x for x in apples]\n",
    "    list2 = [b + x for x in oranges]\n",
    "\n",
    "    apples_inside_range = [z for z in list1 if s <= z <= t]\n",
    "    oranges_inside_range = [z for z in list2 if s <= z <= t]\n",
    "\n",
    "    print(len(apples_inside_range))\n",
    "    print(len(oranges_inside_range))"
   ]
  }
 ],
 "metadata": {
  "interpreter": {
   "hash": "9688926e0120c82bc45141654f06390cf5b07a9996c109707e80805420de038d"
  },
  "kernelspec": {
   "display_name": "Python 3.8.5 64-bit ('base': conda)",
   "language": "python",
   "name": "python3"
  },
  "language_info": {
   "codemirror_mode": {
    "name": "ipython",
    "version": 3
   },
   "file_extension": ".py",
   "mimetype": "text/x-python",
   "name": "python",
   "nbconvert_exporter": "python",
   "pygments_lexer": "ipython3",
   "version": "3.8.5"
  },
  "orig_nbformat": 4
 },
 "nbformat": 4,
 "nbformat_minor": 2
}

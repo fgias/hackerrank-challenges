{
 "cells": [
  {
   "cell_type": "code",
   "execution_count": 1,
   "metadata": {},
   "outputs": [],
   "source": [
    "#!/bin/python3\n",
    "\n",
    "import math\n",
    "import os\n",
    "import random\n",
    "import re\n",
    "import sys\n",
    "\n",
    "#\n",
    "# Complete the 'bonAppetit' function below.\n",
    "#\n",
    "# The function accepts following parameters:\n",
    "#  1. INTEGER_ARRAY bill\n",
    "#  2. INTEGER k\n",
    "#  3. INTEGER b\n",
    "#\n",
    "\n",
    "def bonAppetit(bill, k, b):\n",
    "    anna_correct = (sum(bill) - bill[k])/2\n",
    "    diff = int(b - anna_correct)\n",
    "    if diff != 0:\n",
    "        print(diff)\n",
    "    else:\n",
    "        print('Bon Appetit')"
   ]
  }
 ],
 "metadata": {
  "interpreter": {
   "hash": "9688926e0120c82bc45141654f06390cf5b07a9996c109707e80805420de038d"
  },
  "kernelspec": {
   "display_name": "Python 3.8.5 64-bit ('base': conda)",
   "language": "python",
   "name": "python3"
  },
  "language_info": {
   "codemirror_mode": {
    "name": "ipython",
    "version": 3
   },
   "file_extension": ".py",
   "mimetype": "text/x-python",
   "name": "python",
   "nbconvert_exporter": "python",
   "pygments_lexer": "ipython3",
   "version": "3.8.5"
  },
  "orig_nbformat": 4
 },
 "nbformat": 4,
 "nbformat_minor": 2
}

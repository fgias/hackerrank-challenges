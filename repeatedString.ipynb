{
 "cells": [
  {
   "cell_type": "code",
   "execution_count": 6,
   "metadata": {},
   "outputs": [],
   "source": [
    "#!/bin/python3\n",
    "\n",
    "import math\n",
    "import os\n",
    "import random\n",
    "import re\n",
    "import sys\n",
    "\n",
    "#\n",
    "# Complete the 'repeatedString' function below.\n",
    "#\n",
    "# The function is expected to return a LONG_INTEGER.\n",
    "# The function accepts following parameters:\n",
    "#  1. STRING s\n",
    "#  2. LONG_INTEGER n\n",
    "#\n",
    "\n",
    "def repeatedString(s, n):\n",
    "    l = len(s)\n",
    "\n",
    "    no_as_in_s = 0\n",
    "    for i in range(l):\n",
    "        if s[i] == \"a\":\n",
    "            no_as_in_s += 1\n",
    "\n",
    "    whole = divmod(n, l)[0]\n",
    "    leftover = divmod(n, l)[1]\n",
    "\n",
    "    no_as = whole * no_as_in_s\n",
    "\n",
    "    for i in range(leftover):\n",
    "        if s[i] == \"a\":\n",
    "            no_as += 1\n",
    "    \n",
    "    return no_as\n"
   ]
  },
  {
   "cell_type": "code",
   "execution_count": 1,
   "metadata": {},
   "outputs": [],
   "source": [
    "%qtconsole"
   ]
  }
 ],
 "metadata": {
  "interpreter": {
   "hash": "9688926e0120c82bc45141654f06390cf5b07a9996c109707e80805420de038d"
  },
  "kernelspec": {
   "display_name": "Python 3.8.5 64-bit ('base': conda)",
   "language": "python",
   "name": "python3"
  },
  "language_info": {
   "codemirror_mode": {
    "name": "ipython",
    "version": 3
   },
   "file_extension": ".py",
   "mimetype": "text/x-python",
   "name": "python",
   "nbconvert_exporter": "python",
   "pygments_lexer": "ipython3",
   "version": "3.8.5"
  },
  "orig_nbformat": 4
 },
 "nbformat": 4,
 "nbformat_minor": 2
}

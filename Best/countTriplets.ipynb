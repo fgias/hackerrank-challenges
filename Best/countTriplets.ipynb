{
 "cells": [
  {
   "cell_type": "code",
   "execution_count": 136,
   "metadata": {},
   "outputs": [],
   "source": [
    "from collections import Counter\n",
    "\n",
    "def countTriplets(arr, r):\n",
    "    r2 = Counter()\n",
    "    r3 = Counter()\n",
    "    count = 0\n",
    "    \n",
    "    for v in arr:\n",
    "        if v in r3:\n",
    "            count += r3[v]\n",
    "        \n",
    "        if v in r2:\n",
    "            r3[v*r] += r2[v]\n",
    "        \n",
    "        r2[v*r] += 1\n",
    "\n",
    "    return count\n"
   ]
  },
  {
   "cell_type": "code",
   "execution_count": 137,
   "metadata": {},
   "outputs": [],
   "source": [
    "from collections import Counter\n",
    "\n",
    "def countTriplets(arr, r):\n",
    "    r2 = Counter()\n",
    "    print('r2 is: ', r2)\n",
    "    r3 = Counter()\n",
    "    print('r3 is: ', r3)\n",
    "    count = 0\n",
    "    print('count is: ', count)\n",
    "    \n",
    "    for v in arr:\n",
    "        print('v is: ', v)\n",
    "        if v in r3:\n",
    "            print('v is in r3')\n",
    "            count += r3[v]\n",
    "            print('count becomes: ', count)\n",
    "            \n",
    "        \n",
    "        if v in r2:\n",
    "            print('v is in r2')\n",
    "            r3[v*r] += r2[v]\n",
    "            print('r3 becomes: ', r3)\n",
    "        \n",
    "        r2[v*r] += 1\n",
    "        print('r2 becomes: ', r2)\n",
    "\n",
    "    return count"
   ]
  },
  {
   "cell_type": "code",
   "execution_count": 138,
   "metadata": {},
   "outputs": [
    {
     "name": "stdout",
     "output_type": "stream",
     "text": [
      "r2 is:  Counter()\n",
      "r3 is:  Counter()\n",
      "count is:  0\n",
      "v is:  1\n",
      "r2 becomes:  Counter({2: 1})\n",
      "v is:  2\n",
      "v is in r2\n",
      "r3 becomes:  Counter({4: 1})\n",
      "r2 becomes:  Counter({2: 1, 4: 1})\n",
      "v is:  1\n",
      "r2 becomes:  Counter({2: 2, 4: 1})\n",
      "v is:  2\n",
      "v is in r2\n",
      "r3 becomes:  Counter({4: 3})\n",
      "r2 becomes:  Counter({2: 2, 4: 2})\n",
      "v is:  4\n",
      "v is in r3\n",
      "count becomes:  3\n",
      "v is in r2\n",
      "r3 becomes:  Counter({4: 3, 8: 2})\n",
      "r2 becomes:  Counter({2: 2, 4: 2, 8: 1})\n"
     ]
    },
    {
     "data": {
      "text/plain": [
       "3"
      ]
     },
     "execution_count": 138,
     "metadata": {},
     "output_type": "execute_result"
    }
   ],
   "source": [
    "countTriplets([1,2,1,2,4],2)"
   ]
  }
 ],
 "metadata": {
  "interpreter": {
   "hash": "9688926e0120c82bc45141654f06390cf5b07a9996c109707e80805420de038d"
  },
  "kernelspec": {
   "display_name": "Python 3.8.5 ('base')",
   "language": "python",
   "name": "python3"
  },
  "language_info": {
   "codemirror_mode": {
    "name": "ipython",
    "version": 3
   },
   "file_extension": ".py",
   "mimetype": "text/x-python",
   "name": "python",
   "nbconvert_exporter": "python",
   "pygments_lexer": "ipython3",
   "version": "3.8.5"
  },
  "orig_nbformat": 4
 },
 "nbformat": 4,
 "nbformat_minor": 2
}

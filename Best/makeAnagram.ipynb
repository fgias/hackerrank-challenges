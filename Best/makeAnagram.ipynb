{
 "cells": [
  {
   "cell_type": "code",
   "execution_count": 107,
   "metadata": {},
   "outputs": [],
   "source": [
    "#!/bin/python3\n",
    "\n",
    "import math\n",
    "import os\n",
    "import random\n",
    "import re\n",
    "import sys\n",
    "\n",
    "#\n",
    "# Complete the 'makeAnagram' function below.\n",
    "#\n",
    "# The function is expected to return an INTEGER.\n",
    "# The function accepts following parameters:\n",
    "#  1. STRING a\n",
    "#  2. STRING b\n",
    "#\n",
    "\n",
    "def makeAnagram(a, b):\n",
    "\n",
    "    l1 = [i for i in a]; l2=[i for i in b];\n",
    "    l1.sort(); l2.sort()\n",
    "\n",
    "    cnt = 0\n",
    "    i = 0\n",
    "    while i < len(l1) and i < len(l2):\n",
    "        if l1[i] != l2[i]:\n",
    "            if l1[i] < l2[i]:\n",
    "                l1.pop(i)\n",
    "                cnt += 1\n",
    "            else:\n",
    "                l2.pop(i)\n",
    "                cnt += 1\n",
    "        else:\n",
    "            i += 1\n",
    "\n",
    "    print(l1)\n",
    "    print(l2)\n",
    "\n",
    "    return cnt + abs(len(l2) - len(l1))"
   ]
  },
  {
   "cell_type": "code",
   "execution_count": 110,
   "metadata": {},
   "outputs": [],
   "source": [
    "a = 'fcrxzwscanmligyxyvym'\n",
    "b = 'jxwtrhvujlmrpdoqbisbwhmgpmeoke'"
   ]
  },
  {
   "cell_type": "code",
   "execution_count": 111,
   "metadata": {},
   "outputs": [
    {
     "name": "stdout",
     "output_type": "stream",
     "text": [
      "['g', 'i', 'l', 'm', 'm', 'r', 's', 'v', 'w', 'x', 'x', 'y', 'y', 'y', 'z']\n",
      "['g', 'i', 'l', 'm', 'm', 'r', 's', 'v', 'w', 'x']\n"
     ]
    },
    {
     "data": {
      "text/plain": [
       "30"
      ]
     },
     "execution_count": 111,
     "metadata": {},
     "output_type": "execute_result"
    }
   ],
   "source": [
    "makeAnagram(a, b)"
   ]
  }
 ],
 "metadata": {
  "interpreter": {
   "hash": "220aead3132f0891d2d01f0ad3f05436e31d9e402ae7ff7c9805c7d2dd3b8248"
  },
  "kernelspec": {
   "display_name": "Python 3.9.7 ('base')",
   "language": "python",
   "name": "python3"
  },
  "language_info": {
   "codemirror_mode": {
    "name": "ipython",
    "version": 3
   },
   "file_extension": ".py",
   "mimetype": "text/x-python",
   "name": "python",
   "nbconvert_exporter": "python",
   "pygments_lexer": "ipython3",
   "version": "3.9.7"
  },
  "orig_nbformat": 4
 },
 "nbformat": 4,
 "nbformat_minor": 2
}

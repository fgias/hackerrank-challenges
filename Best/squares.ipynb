{
 "cells": [
  {
   "cell_type": "markdown",
   "metadata": {},
   "source": [
    "## Sherlock and Squares\n",
    "\n",
    "### Inefficient code"
   ]
  },
  {
   "cell_type": "code",
   "execution_count": 1,
   "metadata": {},
   "outputs": [],
   "source": [
    "def squares(a, b):\n",
    "    i = a\n",
    "    j = 1\n",
    "    cnt = 0\n",
    "    while i <= b:\n",
    "        if i > j**2:\n",
    "            j += 1\n",
    "        elif i == j**2:\n",
    "            cnt += 1\n",
    "            i += 1\n",
    "        elif i < j**2:\n",
    "            i += 1\n",
    "\n",
    "    return cnt\n",
    "\n"
   ]
  },
  {
   "cell_type": "markdown",
   "metadata": {},
   "source": [
    "### Efficient code"
   ]
  },
  {
   "cell_type": "code",
   "execution_count": 3,
   "metadata": {},
   "outputs": [],
   "source": [
    "def squares(a, b):\n",
    "    i = a\n",
    "    j = 0\n",
    "    while i <= b:\n",
    "        if i > j**2:\n",
    "            j += 1\n",
    "        elif i == j**2:\n",
    "            break\n",
    "        elif i < j**2:\n",
    "            i += 1\n",
    "    # j is the root of the lowest perfect square in [a,b]\n",
    "\n",
    "    cnt = 0\n",
    "    while j**2 <= b:\n",
    "        if a <= j**2 <= b:\n",
    "            cnt += 1\n",
    "        j += 1 \n",
    "    \n",
    "    return cnt"
   ]
  }
 ],
 "metadata": {
  "interpreter": {
   "hash": "220aead3132f0891d2d01f0ad3f05436e31d9e402ae7ff7c9805c7d2dd3b8248"
  },
  "kernelspec": {
   "display_name": "Python 3.9.7 ('base')",
   "language": "python",
   "name": "python3"
  },
  "language_info": {
   "codemirror_mode": {
    "name": "ipython",
    "version": 3
   },
   "file_extension": ".py",
   "mimetype": "text/x-python",
   "name": "python",
   "nbconvert_exporter": "python",
   "pygments_lexer": "ipython3",
   "version": "3.9.7"
  },
  "orig_nbformat": 4
 },
 "nbformat": 4,
 "nbformat_minor": 2
}

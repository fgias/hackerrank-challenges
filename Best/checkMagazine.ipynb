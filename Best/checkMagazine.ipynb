{
 "cells": [
  {
   "cell_type": "markdown",
   "metadata": {},
   "source": [
    "## Inefficient code"
   ]
  },
  {
   "cell_type": "code",
   "execution_count": 1,
   "metadata": {},
   "outputs": [],
   "source": [
    "#!/bin/python3\n",
    "\n",
    "import math\n",
    "import os\n",
    "import random\n",
    "import re\n",
    "import sys\n",
    "\n",
    "#\n",
    "# Complete the 'checkMagazine' function below.\n",
    "#\n",
    "# The function accepts following parameters:\n",
    "#  1. STRING_ARRAY magazine\n",
    "#  2. STRING_ARRAY note\n",
    "#\n",
    "\n",
    "def checkMagazine(magazine, note):\n",
    "    message = 'Yes'\n",
    "    for word in note:\n",
    "        if not (word in magazine):\n",
    "            message = 'No'\n",
    "            break\n",
    "        magazine.remove(word)\n",
    "\n",
    "    print(message)\n"
   ]
  },
  {
   "cell_type": "markdown",
   "metadata": {},
   "source": [
    "## Efficient code\n",
    "\n",
    "Use dictionaries (hash map/function) because it is much faster to search in them."
   ]
  },
  {
   "cell_type": "markdown",
   "metadata": {},
   "source": [
    "The method `dict.get(key)` returns the value for `key` __if__ the `key` is in the dictionary. If it is not, returns nothing, unless we provide it with a default value to return, i.e. `dict.get(key, default)`\n",
    "\n",
    "For example, here: `dict.get(word,0)` returns the value for the `word`, and returns 0 if the word is not present."
   ]
  },
  {
   "cell_type": "code",
   "execution_count": 95,
   "metadata": {},
   "outputs": [],
   "source": [
    "def checkMagazine(magazine, note):\n",
    "    dict = {}\n",
    "    for word in magazine: # create dictionary with the keys being the words\n",
    "        dict[word] = dict.get(word,0) + 1 # and the values being the numbers of occurence\n",
    "        # for assignement:\n",
    "        # using the subscript notation \n",
    "        # Dictionary_Name[New_Key_Name] = New_Key_Value \n",
    "        \n",
    "    for word in note: \n",
    "        if dict.get(word,0) == 0:\n",
    "            print('No')\n",
    "            return\n",
    "        else:\n",
    "            dict[word] -= 1\n",
    "    print('Yes')"
   ]
  }
 ],
 "metadata": {
  "interpreter": {
   "hash": "9688926e0120c82bc45141654f06390cf5b07a9996c109707e80805420de038d"
  },
  "kernelspec": {
   "display_name": "Python 3.8.5 64-bit ('base': conda)",
   "language": "python",
   "name": "python3"
  },
  "language_info": {
   "codemirror_mode": {
    "name": "ipython",
    "version": 3
   },
   "file_extension": ".py",
   "mimetype": "text/x-python",
   "name": "python",
   "nbconvert_exporter": "python",
   "pygments_lexer": "ipython3",
   "version": "3.8.5"
  },
  "orig_nbformat": 4
 },
 "nbformat": 4,
 "nbformat_minor": 2
}

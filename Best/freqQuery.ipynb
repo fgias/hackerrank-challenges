{
 "cells": [
  {
   "cell_type": "markdown",
   "metadata": {},
   "source": [
    "# Frequency Queries"
   ]
  },
  {
   "cell_type": "code",
   "execution_count": 1,
   "metadata": {},
   "outputs": [],
   "source": [
    "#!/bin/python3\n",
    "\n",
    "import math\n",
    "import os\n",
    "import random\n",
    "import re\n",
    "import sys\n",
    "\n",
    "# Complete the freqQuery function below.\n",
    "def freqQuery(queries):\n",
    "    out = []\n",
    "    arr = {}\n",
    "\n",
    "    for q in queries:\n",
    "        if q[0] == 1:\n",
    "            arr[q[1]] = arr.get(q[1], 0) + 1\n",
    "        elif q[0] == 2:\n",
    "            if (q[1] in arr) and (arr[q[1]] > 0):\n",
    "                arr[q[1]] -= 1\n",
    "        else:\n",
    "            if q[1] in set(arr.values()):\n",
    "                out.append(1)\n",
    "            else:\n",
    "                out.append(0)\n",
    "    \n",
    "    return out"
   ]
  }
 ],
 "metadata": {
  "interpreter": {
   "hash": "220aead3132f0891d2d01f0ad3f05436e31d9e402ae7ff7c9805c7d2dd3b8248"
  },
  "kernelspec": {
   "display_name": "Python 3.9.7 ('base')",
   "language": "python",
   "name": "python3"
  },
  "language_info": {
   "codemirror_mode": {
    "name": "ipython",
    "version": 3
   },
   "file_extension": ".py",
   "mimetype": "text/x-python",
   "name": "python",
   "nbconvert_exporter": "python",
   "pygments_lexer": "ipython3",
   "version": "3.9.7"
  },
  "orig_nbformat": 4
 },
 "nbformat": 4,
 "nbformat_minor": 2
}

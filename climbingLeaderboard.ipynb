{
 "cells": [
  {
   "cell_type": "markdown",
   "metadata": {},
   "source": [
    "## Climbing the Leaderboard"
   ]
  },
  {
   "cell_type": "markdown",
   "metadata": {},
   "source": [
    "### Efficient code"
   ]
  },
  {
   "cell_type": "code",
   "execution_count": 71,
   "metadata": {},
   "outputs": [],
   "source": [
    "#!/bin/python3\n",
    "\n",
    "import math\n",
    "import os\n",
    "import random\n",
    "import re\n",
    "import sys\n",
    "\n",
    "#\n",
    "# Complete the 'climbingLeaderboard' function below.\n",
    "#\n",
    "# The function is expected to return an INTEGER_ARRAY.\n",
    "# The function accepts following parameters:\n",
    "#  1. INTEGER_ARRAY ranked\n",
    "#  2. INTEGER_ARRAY player\n",
    "#\n",
    "\n",
    "def positionsRanked(ranked):\n",
    "    scores = []\n",
    "    curr = 10^10\n",
    "    pos = 0\n",
    "    for r in ranked:\n",
    "        if r != curr:\n",
    "            pos += 1\n",
    "            curr = r\n",
    "        scores.append(pos)\n",
    "\n",
    "    return scores\n",
    "\n",
    "\n",
    "\n",
    "def climbingLeaderboard(ranked, player):\n",
    "    n = len(ranked)\n",
    "    pos = positionsRanked(ranked)\n",
    "    \n",
    "    r = []\n",
    "    i = 0\n",
    "    j = -1\n",
    "\n",
    "    while i <= len(player)-1:\n",
    "        if j == -len(ranked) - 1:\n",
    "            r.append(1)\n",
    "            i += 1\n",
    "        elif player[i] < ranked[j]:\n",
    "            r.append(pos[j]+1)\n",
    "            i += 1\n",
    "        elif player[i] == ranked[j]:\n",
    "            r.append(pos[j])\n",
    "            i += 1\n",
    "        elif player[i] > ranked[j]:\n",
    "            j += -1\n",
    "\n",
    "    return r"
   ]
  },
  {
   "cell_type": "markdown",
   "metadata": {},
   "source": [
    "### Inefficient code: \"Time limit exceeded\""
   ]
  },
  {
   "cell_type": "code",
   "execution_count": null,
   "metadata": {},
   "outputs": [],
   "source": [
    "#!/bin/python3\n",
    "\n",
    "import math\n",
    "import os\n",
    "import random\n",
    "import re\n",
    "import sys\n",
    "\n",
    "#\n",
    "# Complete the 'climbingLeaderboard' function below.\n",
    "#\n",
    "# The function is expected to return an INTEGER_ARRAY.\n",
    "# The function accepts following parameters:\n",
    "#  1. INTEGER_ARRAY ranked\n",
    "#  2. INTEGER_ARRAY player\n",
    "#\n",
    "\n",
    "def climbingLeaderboard(ranked, player):\n",
    "    r = []\n",
    "    scores_set = set(ranked)\n",
    "    for s in player:\n",
    "        ranked.append(s)\n",
    "        ranked.sort(reverse=True)\n",
    "        \n",
    "        scores_set.add(s)\n",
    "        scores_list = list(scores_set)\n",
    "        scores_list.sort(reverse=True)\n",
    "        \n",
    "        r.append(scores_list.index(s) + 1)\n",
    "\n",
    "    return r"
   ]
  },
  {
   "cell_type": "markdown",
   "metadata": {},
   "source": [
    "### Examples"
   ]
  },
  {
   "cell_type": "code",
   "execution_count": 79,
   "metadata": {},
   "outputs": [],
   "source": [
    "ranked = [100,90,90,80]\n",
    "player = [70,80,105]"
   ]
  },
  {
   "cell_type": "code",
   "execution_count": 80,
   "metadata": {},
   "outputs": [
    {
     "data": {
      "text/plain": [
       "[1, 2, 2, 3]"
      ]
     },
     "execution_count": 80,
     "metadata": {},
     "output_type": "execute_result"
    }
   ],
   "source": [
    "positionsRanked(ranked)"
   ]
  },
  {
   "cell_type": "code",
   "execution_count": 81,
   "metadata": {},
   "outputs": [
    {
     "data": {
      "text/plain": [
       "[4, 3, 1]"
      ]
     },
     "execution_count": 81,
     "metadata": {},
     "output_type": "execute_result"
    }
   ],
   "source": [
    "climbingLeaderboard(ranked,player)"
   ]
  },
  {
   "cell_type": "code",
   "execution_count": 82,
   "metadata": {},
   "outputs": [
    {
     "data": {
      "text/plain": [
       "[4, 3, 1, 1, 1]"
      ]
     },
     "execution_count": 82,
     "metadata": {},
     "output_type": "execute_result"
    }
   ],
   "source": [
    "ranked = [100,90,90,80]\n",
    "player = [70,80,105,105,105]\n",
    "climbingLeaderboard(ranked,player)"
   ]
  }
 ],
 "metadata": {
  "interpreter": {
   "hash": "9688926e0120c82bc45141654f06390cf5b07a9996c109707e80805420de038d"
  },
  "kernelspec": {
   "display_name": "Python 3.8.5 64-bit ('base': conda)",
   "language": "python",
   "name": "python3"
  },
  "language_info": {
   "codemirror_mode": {
    "name": "ipython",
    "version": 3
   },
   "file_extension": ".py",
   "mimetype": "text/x-python",
   "name": "python",
   "nbconvert_exporter": "python",
   "pygments_lexer": "ipython3",
   "version": "3.8.5"
  },
  "orig_nbformat": 4
 },
 "nbformat": 4,
 "nbformat_minor": 2
}
